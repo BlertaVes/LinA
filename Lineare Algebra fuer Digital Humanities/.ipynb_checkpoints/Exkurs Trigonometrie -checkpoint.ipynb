{
 "cells": [
  {
   "cell_type": "markdown",
   "metadata": {},
   "source": [
    "## Trigonometrie\n",
    "\n",
    "### Rechtwinlige Dreiecke\n",
    "\n",
    "Dadurch, dass wir Vektoren geometrisch interpretieren können, begegnen euch häufig geometrische Objekte wie (rechtwinklige) Dreiecke. Daher nenne ich euch im Folgenden ein paar wichtige Grundlagen wie die Bezeichung der Seiten von Dreiecken und relevante Winkelfunktionen. Eventuell kennt ihr das auch noch aus der Schule. \n",
    "\n",
    "<img src=\"bilder\\rechtwinkliges_dreieck.png\" height=\"400\" width=\"250\" style=\"float:left; margin-right:30px\"/> \n",
    "\n",
    "Die Abbildung zeigt ein *rechtwinkliges Dreieck*. Ein rechter Winkel wird üblicherweise mit $\\bullet$ gekennzeichnet. \n",
    "Die *Hypotenuse* bezeichnet die längste Seite eines rechtwinkligen Dreiecks und liegt immer gegenüber des rechten Winkels. \n",
    "Als *Katheten* bezeichnen wir die beiden kürzeren Seiten des rechtwinkligen Dreiecks. Sie umschließen den rechten Winkel. \n",
    "\n",
    "<br>\n",
    "<br>\n",
    "<br>\n",
    "<br>\n",
    "<br>\n",
    "<br>\n",
    "<br>\n",
    "<br>\n",
    "<br>\n",
    "<br>\n",
    "<br>\n",
    "<br>\n",
    "<br>\n",
    "<br>\n",
    "\n",
    "\n",
    "<p float=\"left\">\n",
    "    <img src=\"bilder\\rechtwinkliges_dreieck_alpha.png\" height=\"400\" width=\"250\" style=\"float:left; margin-right:30px\"/> \n",
    "    <img src=\"bilder\\rechtwinkliges_dreieck_beta.png\" height=\"400\" width=\"250\" style=\"float:left; margin-right:30px\" /> \n",
    "\n",
    "</p>\n",
    "\n",
    "\n",
    "Die *Katheten* können wir auch genauer beschreiben und zwar als *Ankathete* und *Gegenkathete*. Hier ist es wichtig zu beachten, dass ihr *Ankathete* und *Gegenkathete* immer bezüglich eines spitzen Winkels bestimmt. \n",
    "1. Betrachten wir den Winkel $\\alpha$, so ist die an $\\alpha$ anliegende Kathete die *Ankathete*. Und die Kathete, die gegenüber von $\\alpha$ liegt, nennt sich *Gegenkathete*. \n",
    "2. Betrachten wir hingegen den Winkel $\\beta$, so ist die an $\\beta$ anliegende Kathete die *Ankathete*. Und die Kathete, die gegenüber von $\\beta$ liegt, nennt sich *Gegenkathete*. \n",
    "\n",
    "<br>\n",
    "<br>\n",
    "<br>\n",
    "<br>\n",
    "<br>\n",
    "<br>\n",
    "\n",
    "\n",
    "### Winkelfunktionen"
   ]
  },
  {
   "cell_type": "code",
   "execution_count": null,
   "metadata": {},
   "outputs": [],
   "source": []
  }
 ],
 "metadata": {
  "kernelspec": {
   "display_name": "Python 3",
   "language": "python",
   "name": "python3"
  },
  "language_info": {
   "codemirror_mode": {
    "name": "ipython",
    "version": 3
   },
   "file_extension": ".py",
   "mimetype": "text/x-python",
   "name": "python",
   "nbconvert_exporter": "python",
   "pygments_lexer": "ipython3",
   "version": "3.7.6"
  }
 },
 "nbformat": 4,
 "nbformat_minor": 4
}
